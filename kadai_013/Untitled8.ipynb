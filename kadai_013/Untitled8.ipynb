{
  "nbformat": 4,
  "nbformat_minor": 0,
  "metadata": {
    "colab": {
      "provenance": []
    },
    "kernelspec": {
      "name": "python3",
      "display_name": "Python 3"
    },
    "language_info": {
      "name": "python"
    }
  },
  "cells": [
    {
      "cell_type": "code",
      "execution_count": 5,
      "metadata": {
        "colab": {
          "base_uri": "https://localhost:8080/"
        },
        "id": "FV10yzqUIwHB",
        "outputId": "52fcc761-6d28-47cc-94e2-6baea83b2228"
      },
      "outputs": [
        {
          "output_type": "stream",
          "name": "stdout",
          "text": [
            "121.0\n"
          ]
        }
      ],
      "source": [
        "def total_price(price, tax):\n",
        "    total = price + (price * tax / 100)\n",
        "    return total\n",
        "\n",
        "total = total_price(110, 10)\n",
        "print(total)"
      ]
    }
  ]
}