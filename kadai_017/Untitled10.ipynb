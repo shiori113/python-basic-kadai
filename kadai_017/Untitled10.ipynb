{
  "nbformat": 4,
  "nbformat_minor": 0,
  "metadata": {
    "colab": {
      "provenance": []
    },
    "kernelspec": {
      "name": "python3",
      "display_name": "Python 3"
    },
    "language_info": {
      "name": "python"
    }
  },
  "cells": [
    {
      "cell_type": "code",
      "source": [
        "class Human:\n",
        "    def __init__(self, name, age):\n",
        "        self.name = name\n",
        "        self.age = age\n",
        "\n",
        "    def check_adult(self):\n",
        "        if self.age >= 20:\n",
        "            print(f\"{self.name}さんは大人です。\")\n",
        "        else:\n",
        "            print(f\"{self.name}さんは大人ではない。\")\n",
        "\n",
        "people = [\n",
        "    Human(\"サムライ\", 18),\n",
        "    Human(\"侍\", 12),\n",
        "    Human(\"えん\", 49)\n",
        "]\n",
        "\n",
        "for person in people:\n",
        "    person.check_adult()"
      ],
      "metadata": {
        "colab": {
          "base_uri": "https://localhost:8080/"
        },
        "id": "d2yZcjoPIgl7",
        "outputId": "4e61db73-de21-42e1-d9e9-11273beba0fd"
      },
      "execution_count": 14,
      "outputs": [
        {
          "output_type": "stream",
          "name": "stdout",
          "text": [
            "サムライさんは大人ではない。\n",
            "侍さんは大人ではない。\n",
            "えんさんは大人です。\n"
          ]
        }
      ]
    }
  ]
}